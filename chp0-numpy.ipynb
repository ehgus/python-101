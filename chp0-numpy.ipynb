{
 "cells": [
  {
   "cell_type": "markdown",
   "source": [
    "# Numpy 101"
   ],
   "metadata": {}
  },
  {
   "cell_type": "markdown",
   "source": [
    "## What is numpy?\r\n",
    "\r\n",
    "- python을 위한 array 연산 package\r\n",
    "- 거의 모든 과학 연산 package의 기본 package\r\n",
    "\r\n",
    "<center>\r\n",
    "<img src=\"./img/chp0/numpy-support-pkg.png\" alt=\"numpy-support-pkg\" width=\"600\"/>\r\n",
    "\r\n",
    "*numpy가 지원하는 package (numpy가 직접 지원하지 않아도 잘 사용되는 package도 많음)*\r\n",
    "</center>\r\n",
    "\r\n",
    "- Python list와 numpy array의 다른 점\r\n",
    "    - 고정된 크기로 생성된다: pop(element 제거),append(element 추가)와 같은 함수 사용의 overhead는 커지지만 계산 overhead가 크게 줄어듦\r\n",
    "    - 모든 element가 같은 type을 가진다: list는 각 element마다 type check를 해야하는 overhead가 있지만, numpy array는 그런 시간이 줄어든다\r\n",
    "    - 위와 같은 overhead와 data 규칙성을 제공하여 더 높은 수준의 최적화를 가능케 한다.\r\n",
    "    - 행렬연산 함수를 지원한다."
   ],
   "metadata": {}
  },
  {
   "cell_type": "markdown",
   "source": [
    "## 설치 방법\r\n",
    "Python이 이미 설치되어 있다는 가정하에 아래 명령어 중 하나를 실행한다.\r\n",
    "```\r\n",
    "conda install numpy \r\n",
    "```\r\n",
    "or\r\n",
    "```\r\n",
    "pip install numpy\r\n",
    "```"
   ],
   "metadata": {}
  },
  {
   "cell_type": "code",
   "execution_count": 7,
   "source": [
    "# package 호출 방법\r\n",
    "import numpy as np"
   ],
   "outputs": [],
   "metadata": {}
  },
  {
   "cell_type": "markdown",
   "source": [
    "## Array 생성 방법\r\n",
    "- array-like 데이터를 변환하는 방법\r\n",
    "- 특수 함수를 사용하는 방법\r\n",
    "\r\n",
    "더 다양한 함수를 보고 싶으면 [링크](https://numpy.org/doc/stable/reference/routines.array-creation.html#) 를 참고하자."
   ],
   "metadata": {}
  },
  {
   "cell_type": "code",
   "execution_count": 8,
   "source": [
    "'''\r\n",
    "numpy array 생성 방법\r\n",
    "- array-like 데이터를 변환하는 방법\r\n",
    "- 특수 함수를 사용하는 방법\r\n",
    "'''\r\n",
    "def print_all(array):\r\n",
    "    print(array,f'shape: {array.shape}, data type: {array.dtype}')\r\n",
    "\r\n",
    "print(\"1. array-like 데이터를 변환\")\r\n",
    "a = np.array([[1,2,3],[4,5,6]],dtype=int) # list \r\n",
    "print_all(a)\r\n",
    "b = np.array(a,dtype=float) # np.ndarray\r\n",
    "print_all(b)\r\n",
    "\r\n",
    "print(\"2. 특수 함수를 사용\")\r\n",
    "a = np.random.rand(2,3) # 0~1 random array\r\n",
    "print_all(a)\r\n",
    "b = np.eye(3) # identity matrix\r\n",
    "print_all(b)\r\n",
    "\r\n"
   ],
   "outputs": [
    {
     "output_type": "stream",
     "name": "stdout",
     "text": [
      "1. array-like 데이터를 변환\n",
      "[[1 2 3]\n",
      " [4 5 6]] shape: (2, 3), data type: int32\n",
      "[[1. 2. 3.]\n",
      " [4. 5. 6.]] shape: (2, 3), data type: float64\n",
      "2. 특수 함수를 사용\n",
      "[[0.68404997 0.47150031 0.42757368]\n",
      " [0.58474049 0.01274247 0.68389204]] shape: (2, 3), data type: float64\n",
      "[[1. 0. 0.]\n",
      " [0. 1. 0.]\n",
      " [0. 0. 1.]] shape: (3, 3), data type: float64\n"
     ]
    }
   ],
   "metadata": {}
  },
  {
   "cell_type": "markdown",
   "source": [
    "위의 결과에서 data type이 단순한 int/float가 아닌 int32/float64임을 볼수 있다.\r\n",
    "\r\n",
    "numpy array는 각 type을 표현할 bit 개수까지 정한다.\r\n",
    "<center>\r\n",
    "<img src=\"./img/chp0/int32.png\" alt=\"numpy-support-pkg\" width=\"600\"/>\r\n",
    "</center>\r\n",
    "\r\n",
    "Quiz) np.ones((3,2),dtype=np.int32)가 차지하는 bit 개수를 생각해보자. 아래 python 코드를 돌리면 답을 확인할 수 있다.\r\n",
    "```\r\n",
    "a = np.ones((3,2),dtype=np.int32)\r\n",
    "ans = a.nbytes * 8 # 1byte = 8bit\r\n",
    "print(ans)\r\n",
    "```"
   ],
   "metadata": {}
  },
  {
   "cell_type": "markdown",
   "source": [
    "## Numpy unary operation\r\n",
    " - array의 상태 반환: shape, size, dtype\r\n",
    " - array 복사: copy, copyto\r\n",
    " - array의 모양 변환: reshape, ravel\r\n",
    " - transpose: T\r\n",
    " \r\n",
    " 더 다양한 함수를 보고 싶으면 [링크](https://numpy.org/doc/stable/reference/routines.array-manipulation.html) 를 참고하자."
   ],
   "metadata": {}
  },
  {
   "cell_type": "code",
   "execution_count": 9,
   "source": [
    "x = np.arange(6).reshape(2,3)\r\n",
    "\r\n",
    "# array status\r\n",
    "print(f\"shape:{x.shape}, size: {x.size}, dtype: {x.dtype}\")\r\n",
    "\r\n",
    "# array copy\r\n",
    "y =x\r\n",
    "print(\"\\n---array sharing---\")\r\n",
    "print(f\"Is each elements of x is the same as those of y?: {np.array_equal(y,x)}\")\r\n",
    "print(f\"is x and y the same?: {y is x}\")\r\n",
    "\r\n",
    "y = x.copy() # y = np.empty_like(x, dtype=x.dtype);np.copyto(y,x)\r\n",
    "print(\"\\n---array copy---\")\r\n",
    "print(f\"Is each elements of x is the same as those of y?: {np.array_equal(y,x)}\")\r\n",
    "print(f\"is x and y the same?: {y is x}\")\r\n",
    "\r\n",
    "# array reshape - WARNING: they do not copy the data\r\n",
    "print(\"\\nDo reshape methods copy data? Let's see...\")\r\n",
    "y = x.reshape(3,2)\r\n",
    "y[0,0] =10\r\n",
    "print(x)\r\n",
    "y = x.ravel()\r\n",
    "y[0] =0\r\n",
    "print(x)\r\n",
    "\r\n",
    "# array transpose - WARNING: it does not copy the data\r\n",
    "print(\"\\nHow about transpose? Let's see...\")\r\n",
    "y = x.T\r\n",
    "y[0,0] =10\r\n",
    "print(x)\r\n"
   ],
   "outputs": [
    {
     "output_type": "stream",
     "name": "stdout",
     "text": [
      "shape:(2, 3), size: 6, dtype: int32\n",
      "\n",
      "---array sharing---\n",
      "Is each elements of x is the same as those of y?: True\n",
      "is x and y the same?: True\n",
      "\n",
      "---array copy---\n",
      "Is each elements of x is the same as those of y?: True\n",
      "is x and y the same?: False\n",
      "\n",
      "Do reshape methods copy data? Let's see...\n",
      "[[10  1  2]\n",
      " [ 3  4  5]]\n",
      "[[0 1 2]\n",
      " [3 4 5]]\n",
      "\n",
      "How about transpose? Let's see...\n",
      "[[10  1  2]\n",
      " [ 3  4  5]]\n"
     ]
    }
   ],
   "metadata": {}
  },
  {
   "cell_type": "markdown",
   "source": [
    "위의 결과로 보아, numpy array는 data와 index 방법을 바꾸는 방법에 대해서는 copy를 진행하지 않음을 알 수 있다. 이런 성질로 **불필요한 copy를 줄여 계산 속도를 올리기 때문에** 잘 활용하여야 한다."
   ],
   "metadata": {}
  },
  {
   "cell_type": "markdown",
   "source": [
    "## Numpy binary operation\r\n",
    " Numpy는 +,-,*,/,%,//...와 같은 기본 연산자에 대해서는 element-wise operation을 취한다. 즉, matrix multiplication이나 inner product, outer product는 그에 맞는 함수를 사용해서 수행한다."
   ],
   "metadata": {}
  },
  {
   "cell_type": "code",
   "execution_count": 10,
   "source": [
    "x = np.arange(1,7) # [1,2,3,4,5,6]\r\n",
    "y = np.ones(6) # [1,1,1,1,1,1]\r\n",
    "\r\n",
    "print('basic operations')\r\n",
    "print(x+y)\r\n",
    "print(x-y)\r\n",
    "print(x*y)\r\n",
    "print(y/x)\r\n",
    "\r\n",
    "print('matrix operations')\r\n",
    "print(np.matmul(x,y.T))\r\n",
    "print(np.inner(x,y))\r\n",
    "print(np.outer(x,y))\r\n"
   ],
   "outputs": [
    {
     "output_type": "stream",
     "name": "stdout",
     "text": [
      "basic operations\n",
      "[2. 3. 4. 5. 6. 7.]\n",
      "[0. 1. 2. 3. 4. 5.]\n",
      "[1. 2. 3. 4. 5. 6.]\n",
      "[1.         0.5        0.33333333 0.25       0.2        0.16666667]\n",
      "matrix operations\n",
      "21.0\n",
      "21.0\n",
      "[[1. 1. 1. 1. 1. 1.]\n",
      " [2. 2. 2. 2. 2. 2.]\n",
      " [3. 3. 3. 3. 3. 3.]\n",
      " [4. 4. 4. 4. 4. 4.]\n",
      " [5. 5. 5. 5. 5. 5.]\n",
      " [6. 6. 6. 6. 6. 6.]]\n"
     ]
    }
   ],
   "metadata": {}
  },
  {
   "cell_type": "markdown",
   "source": [
    "## Advanced performance tips\r\n",
    "1. 환경변수 OMP_NUM_THREADS에 thread 개수를 설정하자.\r\n",
    "2. Linux 환경에서는 transparent hugepage를 사용하자\r\n",
    "\r\n",
    "[링크](https://numpy.org/doc/stable/reference/global_state.html)를 통해 자세한 이유를 볼 수 있다.\r\n",
    "\r\n"
   ],
   "metadata": {}
  }
 ],
 "metadata": {
  "orig_nbformat": 4,
  "language_info": {
   "name": "python",
   "version": "3.8.5",
   "mimetype": "text/x-python",
   "codemirror_mode": {
    "name": "ipython",
    "version": 3
   },
   "pygments_lexer": "ipython3",
   "nbconvert_exporter": "python",
   "file_extension": ".py"
  },
  "kernelspec": {
   "name": "python3",
   "display_name": "Python 3.8.5 64-bit (conda)"
  },
  "interpreter": {
   "hash": "48c8624a1270f9281bbffb50a3777c6385cbb3ca9aaa4b3001d9f9d1db3c7ebd"
  }
 },
 "nbformat": 4,
 "nbformat_minor": 2
}