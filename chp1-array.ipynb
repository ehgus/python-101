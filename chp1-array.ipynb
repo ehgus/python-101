{
    "cells": [
        {
            "cell_type": "markdown",
            "source": [
                "# Basics of array"
            ],
            "metadata": {}
        },
        {
            "cell_type": "code",
            "execution_count": 1,
            "source": [
                "import numpy as np"
            ],
            "outputs": [],
            "metadata": {}
        },
        {
            "cell_type": "markdown",
            "source": [
                "## 1. numpy가 array를 저장하는 방식"
            ],
            "metadata": {}
        },
        {
            "cell_type": "markdown",
            "source": [
                "메모리는 1차원적으로 정보를 저장한다.\r\n",
                "2차원 nxn array를 0번째부터 n^2-1번째의 메모리 공간에 저장하려면 다음과 같은 규칙으로 값을 저장할 수 있을 것이다.\r\n",
                "\r\n",
                "$$ memory[x+n*y] = array[y,x] $$\r\n",
                "$$ or $$\r\n",
                "$$ memory[x+n*y] = array[x,y] $$\r\n",
                "\r\n",
                "위의 방식을 row-major array라고 하고, 아래 방식을 column-major array 방식이라고 한다.\r\n",
                "python의 numpy는 row-major array 방식을 이용하며, matlab과 julia는 column-major array 방식을 취한다.\r\n"
            ],
            "metadata": {}
        },
        {
            "cell_type": "code",
            "execution_count": 29,
            "source": [
                "x = np.arange(6)\r\n",
                "# 1-dim indexing\r\n",
                "print(x[0],x[1],x[2],x[3],x[4],x[5])\r\n",
                "x = x.reshape(3,2)\r\n",
                "# row-major indexing\r\n",
                "print(x[0,0], x[0,1], x[1,0], x[1,1], x[2,0], x[2,1])"
            ],
            "outputs": [
                {
                    "output_type": "stream",
                    "name": "stdout",
                    "text": [
                        "0 1 2 3 4 5\n",
                        "0 1 2 3 4 5\n"
                    ]
                }
            ],
            "metadata": {}
        },
        {
            "cell_type": "markdown",
            "source": [
                "이로 인해 모든 element를 접근하려고 할 때 numpy는 row-major indexing을 사용해야 더 최적의 결과를 얻을 수 있다.\r\n",
                "\r\n",
                "아래에 matlab, julia는 column-major indexing이 더 빠른 것을 확인할 수 있다."
            ],
            "metadata": {}
        },
        {
            "cell_type": "markdown",
            "source": [
                "**matlab**\r\n",
                "```\r\n",
                "x = ones(1024,1024);\r\n",
                "tic()\r\n",
                "for i = 1:1024\r\n",
                "    for j = 1:1024\r\n",
                "        x(i,j) = rand();\r\n",
                "    end\r\n",
                "end\r\n",
                "toc() % row-majored, 19.785ms\r\n",
                "\r\n",
                "x = ones(1024,1024);\r\n",
                "tic()\r\n",
                "for i = 1:1024\r\n",
                "    for j = 1:1024\r\n",
                "        x(j,i) = rand();\r\n",
                "    end\r\n",
                "end\r\n",
                "toc() % column-majored, 19.380ms\r\n",
                "\r\n",
                "```\r\n",
                "\r\n",
                "**julia**\r\n",
                "```\r\n",
                "using BenchmarkTools\r\n",
                "\r\n",
                "function row_major()\r\n",
                "    x = ones(1024,1024)\r\n",
                "    for i = 1:1024\r\n",
                "        for j = 1:1024\r\n",
                "            x[i,j] = rand();\r\n",
                "        end\r\n",
                "    end\r\n",
                "    return x\r\n",
                "end\r\n",
                "\r\n",
                "function col_major()\r\n",
                "    x = ones(1024,1024)\r\n",
                "    for i = 1:1024\r\n",
                "        for j = 1:1024\r\n",
                "            x[j,i] = rand();\r\n",
                "        end\r\n",
                "    end\r\n",
                "    return x\r\n",
                "end\r\n",
                "\r\n",
                "@benchmark row_major() # median = 5.283ms\r\n",
                "@benchamrk col_major() # median = 4.130ms\r\n",
                "```"
            ],
            "metadata": {}
        },
        {
            "cell_type": "code",
            "execution_count": 21,
            "source": [
                "def row_major(n):\r\n",
                "    x = np.ones((n,n,n))\r\n",
                "    for i in range(n):\r\n",
                "        for j in range(n):\r\n",
                "            for k in range(n):\r\n",
                "                x[i,j,k] = np.random.rand()\r\n",
                "\r\n",
                "def col_major(n):\r\n",
                "    x = np.ones((n,n,n))\r\n",
                "    for i in range(n):\r\n",
                "        for j in range(n):\r\n",
                "            for k in range(n):\r\n",
                "                x[k,j,i] = np.random.rand()\r\n"
            ],
            "outputs": [],
            "metadata": {}
        },
        {
            "cell_type": "code",
            "execution_count": 31,
            "source": [
                "%timeit row_major(500) # n = 500, 39 s ± 71.8 ms per loop\r\n",
                "%timeit col_major(500) # n = 500, 39.9 s ± 232 ms per loop"
            ],
            "outputs": [
                {
                    "output_type": "stream",
                    "name": "stdout",
                    "text": [
                        "39 s ± 71.8 ms per loop (mean ± std. dev. of 7 runs, 1 loop each)\n",
                        "39.9 s ± 232 ms per loop (mean ± std. dev. of 7 runs, 1 loop each)\n"
                    ]
                }
            ],
            "metadata": {}
        },
        {
            "cell_type": "markdown",
            "source": [
                "## 2. Single instruction multiple data(SIMD): 하나의 명령어로 여러 개의 값 처리하기"
            ],
            "metadata": {}
        },
        {
            "cell_type": "markdown",
            "source": [
                "SIMD 명령어는 하나의 명령어로 여러 값을 처리하는 방식으로 각 계산이 서로의 결과에 전혀 영향을 미치는 않을 때 많이 사용한다.\r\n",
                "가령 size n인 두 array를 더하는 것은 총 n번의 덧셈이 필요하다.\r\n",
                "이 경우 SIMD 명령어를 사용하여 연산을 한번에 진행할 수 있다. 예시로는 x86-64의 AVX가 있다.\r\n",
                "\r\n",
                "numpy는 추상화를 통해 array간 연산을 자동으로 SIMD 명령어로 수행한다."
            ],
            "metadata": {}
        },
        {
            "cell_type": "code",
            "execution_count": 32,
            "source": [
                "%timeit np.ones((500,500,500)) + np.random.rand(500,500,500) # n = 500, 940 ms ± 19.4 ms"
            ],
            "outputs": [
                {
                    "output_type": "stream",
                    "name": "stdout",
                    "text": [
                        "940 ms ± 19.4 ms per loop (mean ± std. dev. of 7 runs, 1 loop each)\n"
                    ]
                }
            ],
            "metadata": {}
        },
        {
            "cell_type": "markdown",
            "source": [
                "## 3. Broadcasting rule: 서로 다른 모양의 array 연산하기"
            ],
            "metadata": {}
        },
        {
            "cell_type": "markdown",
            "source": [
                "때론 서로 다른 array를 더하고 싶은 상황이 온다.\r\n",
                "\r\n",
                "예를 들어 256*256*3 의 RGB image에서 red 는 1만큼 낮추고, green 은 2만큼 올리고, blue는 3만큼 올리고 싶다고 해보자. 이 경우 [-1,2,3] 의 array를 256*256개가 있으면 가능하지만, 이는 쓸데없는 메모리 용량을 잡아먹고, 각 pixel에 for문을 사용하면서 [-1,2,3]을 더하는 것은 SIMD를 온전히 활용할 수 없게 한다.\r\n",
                "\r\n",
                "이런 문제를 해결하기 위해 numpy는 broadcast를 지원한다.\r\n",
                "\r\n",
                "<case 1>\r\n",
                "\r\n",
                "scalar + array: n x m array와 scalar를 더하려고 하면 scalar는 n x m array로 broadcasting되어 각 array element에 더해진다.\r\n",
                "\r\n",
                "<case 2>\r\n",
                "\r\n",
                "(n x m x k array) + (n x m x 1 array): "
            ],
            "metadata": {}
        },
        {
            "cell_type": "code",
            "execution_count": 35,
            "source": [
                "x = np.arange(4).reshape(1,4)\r\n",
                "z = np.ones((3,4))\r\n",
                "\r\n",
                "x*z"
            ],
            "outputs": [
                {
                    "output_type": "execute_result",
                    "data": {
                        "text/plain": [
                            "array([[0., 1., 2., 3.],\n",
                            "       [0., 1., 2., 3.],\n",
                            "       [0., 1., 2., 3.]])"
                        ]
                    },
                    "metadata": {},
                    "execution_count": 35
                }
            ],
            "metadata": {}
        },
        {
            "cell_type": "code",
            "execution_count": null,
            "source": [],
            "outputs": [],
            "metadata": {}
        }
    ],
    "metadata": {
        "orig_nbformat": 4,
        "language_info": {
            "name": "python",
            "version": "3.8.10",
            "mimetype": "text/x-python",
            "codemirror_mode": {
                "name": "ipython",
                "version": 3
            },
            "pygments_lexer": "ipython3",
            "nbconvert_exporter": "python",
            "file_extension": ".py"
        },
        "kernelspec": {
            "name": "python3",
            "display_name": "Python 3.8.10 64-bit ('py38': conda)"
        },
        "interpreter": {
            "hash": "0667671ab7cf17b9b6964312f9374c0471ad20a5f66a67a8597e0359c98ecfba"
        }
    },
    "nbformat": 4,
    "nbformat_minor": 2
}