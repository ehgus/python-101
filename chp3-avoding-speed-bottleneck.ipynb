{
    "cells": [
        {
            "cell_type": "markdown",
            "source": [
                "# Avoiding speed bottleneck\r\n",
                "\r\n",
                "<center>\r\n",
                "<img src=\"./img/chp3/memory-bound-hell.png\" alt=\"memory bound program\" width=\"600\"/>\r\n",
                "<img src=\"./img/chp3/cpu-bound-heaven.png\" alt=\"cpu bound program\" width=\"600\"/>\r\n",
                "</center>\r\n",
                "\r\n"
            ],
            "metadata": {}
        },
        {
            "cell_type": "markdown",
            "source": [
                "## CPU bound, Memory bound, I/O bound program\r\n",
                " program의 성능의 최대치는 bottleneck이 걸리는 부분에서 결정된다. CPU bound는 program 속도가 cpu의 한계로 결정되는 프로그램이고 memory bound, I/O bound program은 memory와 I/O interface(주로 저장장치, 현미경이라면 CCD)의 성능이 program의 최대 성능을 결정할 때 말한다.\r\n",
                " \r\n",
                " 일반적으로 cpu bound program이 제일 이상적이다. cpu가 다른 부품에 비해 제일 빠르기 때문에 memory bound와 I/O bound program 설계는 최대한 피해야 한다."
            ],
            "metadata": {}
        },
        {
            "cell_type": "markdown",
            "source": [
                "## tip1:(memory,I/O) 꼭 필요한 파일/변수만 사용해서 처리하자"
            ],
            "metadata": {}
        },
        {
            "cell_type": "code",
            "execution_count": 1,
            "source": [
                "import numpy as np"
            ],
            "outputs": [],
            "metadata": {}
        },
        {
            "cell_type": "markdown",
            "source": [
                "## tip1:(memory,I/O) read와 write를 섞으면서 사용하지 마라"
            ],
            "metadata": {}
        },
        {
            "cell_type": "markdown",
            "source": [
                "## tip2:(I/O) I/O operation이 필연적으로 많으면 async, multi-thread를 잘 활용하라"
            ],
            "metadata": {}
        },
        {
            "cell_type": "markdown",
            "source": [
                "tip3: "
            ],
            "metadata": {}
        },
        {
            "cell_type": "code",
            "execution_count": null,
            "source": [],
            "outputs": [],
            "metadata": {}
        },
        {
            "cell_type": "code",
            "execution_count": null,
            "source": [],
            "outputs": [],
            "metadata": {}
        }
    ],
    "metadata": {
        "orig_nbformat": 4,
        "language_info": {
            "name": "python",
            "version": "3.8.10",
            "mimetype": "text/x-python",
            "codemirror_mode": {
                "name": "ipython",
                "version": 3
            },
            "pygments_lexer": "ipython3",
            "nbconvert_exporter": "python",
            "file_extension": ".py"
        },
        "kernelspec": {
            "name": "python3",
            "display_name": "Python 3.8.10 64-bit ('py38': conda)"
        },
        "interpreter": {
            "hash": "0667671ab7cf17b9b6964312f9374c0471ad20a5f66a67a8597e0359c98ecfba"
        }
    },
    "nbformat": 4,
    "nbformat_minor": 2
}